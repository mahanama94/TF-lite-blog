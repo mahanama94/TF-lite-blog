{
  "nbformat": 4,
  "nbformat_minor": 0,
  "metadata": {
    "colab": {
      "name": "TF-Lite-Demo.ipynb",
      "provenance": [],
      "include_colab_link": true
    },
    "kernelspec": {
      "name": "python3",
      "display_name": "Python 3"
    },
    "language_info": {
      "name": "python"
    }
  },
  "cells": [
    {
      "cell_type": "markdown",
      "metadata": {
        "id": "view-in-github",
        "colab_type": "text"
      },
      "source": [
        "<a href=\"https://colab.research.google.com/github/mahanama94/TF-lite-blog/blob/main/TF_Lite_Demo.ipynb\" target=\"_parent\"><img src=\"https://colab.research.google.com/assets/colab-badge.svg\" alt=\"Open In Colab\"/></a>"
      ]
    },
    {
      "cell_type": "code",
      "execution_count": 1,
      "metadata": {
        "id": "M0Pw9YBZvQrx"
      },
      "outputs": [],
      "source": [
        "import os\n",
        "import tensorflow as tf\n",
        "\n",
        "import matplotlib.pyplot as plt"
      ]
    },
    {
      "cell_type": "code",
      "source": [
        "import numpy as np\n",
        "\n",
        "def evaluate_model(interpreter, x_test, y_test):\n",
        "  input_index = interpreter.get_input_details()[0][\"index\"]\n",
        "  output_index = interpreter.get_output_details()[0][\"index\"]\n",
        "\n",
        "  # Run predictions on every image in the \"test\" dataset.\n",
        "  prediction_digits = []\n",
        "  for i, test_image in enumerate(x_test):\n",
        "    # if i % 1000 == 0:\n",
        "    #   print('Evaluated on {n} results so far.'.format(n=i))\n",
        "    # Pre-processing: add batch dimension and convert to float32 to match with\n",
        "    # the model's input data format.\n",
        "    test_image = np.expand_dims(test_image, axis=0).astype(np.float32)\n",
        "    interpreter.set_tensor(input_index, test_image)\n",
        "\n",
        "    # Run inference.\n",
        "    interpreter.invoke()\n",
        "\n",
        "    # Post-processing: remove batch dimension and find the digit with highest\n",
        "    # probability.\n",
        "    output = interpreter.tensor(output_index)\n",
        "    digit = np.argmax(output()[0])\n",
        "    prediction_digits.append(digit)\n",
        "\n",
        "  # Compare prediction results with ground truth labels to calculate accuracy.\n",
        "  prediction_digits = np.array(prediction_digits)\n",
        "  accuracy = (prediction_digits == y_test).mean()\n",
        "  return accuracy"
      ],
      "metadata": {
        "id": "PgzCowbF4Pfe"
      },
      "execution_count": 2,
      "outputs": []
    },
    {
      "cell_type": "code",
      "source": [
        "(x_train, y_train) , (x_test, y_test) = tf.keras.datasets.mnist.load_data()"
      ],
      "metadata": {
        "id": "JmhkZvRhvboG",
        "outputId": "6cacc115-b2de-4642-d2ab-11e12b5e5b8f",
        "colab": {
          "base_uri": "https://localhost:8080/"
        }
      },
      "execution_count": 3,
      "outputs": [
        {
          "output_type": "stream",
          "name": "stdout",
          "text": [
            "Downloading data from https://storage.googleapis.com/tensorflow/tf-keras-datasets/mnist.npz\n",
            "11493376/11490434 [==============================] - 0s 0us/step\n",
            "11501568/11490434 [==============================] - 0s 0us/step\n"
          ]
        }
      ]
    },
    {
      "cell_type": "code",
      "source": [
        "plt.imshow(x_train[10])\n",
        "\n",
        "plt.show()"
      ],
      "metadata": {
        "colab": {
          "base_uri": "https://localhost:8080/",
          "height": 265
        },
        "id": "TEJSbNlov1W3",
        "outputId": "783779ca-7a91-4ea5-e7d2-76575d53c99f"
      },
      "execution_count": 4,
      "outputs": [
        {
          "output_type": "display_data",
          "data": {
            "image/png": "[encoded data removed]",
            "text/plain": [
              "<Figure size 432x288 with 1 Axes>"
            ]
          },
          "metadata": {
            "needs_background": "light"
          }
        }
      ]
    },
    {
      "cell_type": "code",
      "source": [
        "x_train = x_train/255\n",
        "\n",
        "x_test = x_test / 255"
      ],
      "metadata": {
        "id": "FUE80ejgv714"
      },
      "execution_count": 5,
      "outputs": []
    },
    {
      "cell_type": "markdown",
      "source": [
        "## Base Model"
      ],
      "metadata": {
        "id": "iv4l6FpVNYL9"
      }
    },
    {
      "cell_type": "code",
      "source": [
        "from tensorflow.keras import Sequential\n",
        "from tensorflow.keras.layers import InputLayer, Dense, Flatten\n",
        "\n",
        "def get_base_model():\n",
        "    return Sequential([\n",
        "                        InputLayer(input_shape=(28, 28)),\n",
        "                        Flatten(),\n",
        "                        Dense(128, activation='relu'),\n",
        "                        Dense(32, activation='relu'),\n",
        "                        Dense(10, activation='sigmoid')\n",
        "    ])\n",
        "\n",
        "\n",
        "base_model = get_base_model()\n",
        "\n",
        "base_model.compile(optimizer='adam',\n",
        "              loss='sparse_categorical_crossentropy',\n",
        "              metrics=['accuracy'])\n",
        "\n",
        "base_model.fit(x_train, y_train, epochs=5)"
      ],
      "metadata": {
        "colab": {
          "base_uri": "https://localhost:8080/"
        },
        "id": "mpYK0u3UwQlj",
        "outputId": "f3667ef3-1780-4a92-e47e-b896941f8ca0"
      },
      "execution_count": 6,
      "outputs": [
        {
          "output_type": "stream",
          "name": "stdout",
          "text": [
            "Epoch 1/5\n",
            "1875/1875 [==============================] - 5s 3ms/step - loss: 0.2512 - accuracy: 0.9264\n",
            "Epoch 2/5\n",
            "1875/1875 [==============================] - 10s 5ms/step - loss: 0.1071 - accuracy: 0.9682\n",
            "Epoch 3/5\n",
            "1875/1875 [==============================] - 10s 5ms/step - loss: 0.0757 - accuracy: 0.9766\n",
            "Epoch 4/5\n",
            "1875/1875 [==============================] - 9s 5ms/step - loss: 0.0564 - accuracy: 0.9824\n",
            "Epoch 5/5\n",
            "1875/1875 [==============================] - 9s 5ms/step - loss: 0.0451 - accuracy: 0.9857\n"
          ]
        },
        {
          "output_type": "execute_result",
          "data": {
            "text/plain": [
              "<keras.callbacks.History at 0x7f2121fd00d0>"
            ]
          },
          "metadata": {},
          "execution_count": 6
        }
      ]
    },
    {
      "cell_type": "code",
      "source": [
        "base_model.evaluate(x_test, y_test)"
      ],
      "metadata": {
        "colab": {
          "base_uri": "https://localhost:8080/"
        },
        "id": "GhgDRFPbxm3K",
        "outputId": "9946ea9d-869e-4677-81e6-65a1fff75438"
      },
      "execution_count": 7,
      "outputs": [
        {
          "output_type": "stream",
          "name": "stdout",
          "text": [
            "313/313 [==============================] - 1s 2ms/step - loss: 0.0749 - accuracy: 0.9770\n"
          ]
        },
        {
          "output_type": "execute_result",
          "data": {
            "text/plain": [
              "[0.07485339045524597, 0.9769999980926514]"
            ]
          },
          "metadata": {},
          "execution_count": 7
        }
      ]
    },
    {
      "cell_type": "code",
      "source": [
        "base_model.save(\"base-mnist-model\")"
      ],
      "metadata": {
        "colab": {
          "base_uri": "https://localhost:8080/"
        },
        "id": "TwitPA71xxje",
        "outputId": "4e391d01-d7b8-4a21-9bf2-dbea426f3acf"
      },
      "execution_count": 8,
      "outputs": [
        {
          "output_type": "stream",
          "name": "stdout",
          "text": [
            "INFO:tensorflow:Assets written to: base-mnist-model/assets\n"
          ]
        }
      ]
    },
    {
      "cell_type": "markdown",
      "source": [
        "## Post-training Quantization"
      ],
      "metadata": {
        "id": "Mm-OMY33ySfI"
      }
    },
    {
      "cell_type": "code",
      "source": [
        "tflite_converter = tf.lite.TFLiteConverter.from_saved_model(\"base-mnist-model\")"
      ],
      "metadata": {
        "id": "2rqJTIpbyJdA"
      },
      "execution_count": 9,
      "outputs": []
    },
    {
      "cell_type": "markdown",
      "source": [
        "### Non-Quantized Conversion"
      ],
      "metadata": {
        "id": "2AMGzpxF9RMR"
      }
    },
    {
      "cell_type": "code",
      "source": [
        "tflite_model = tflite_converter.convert()\n",
        "\n",
        "NON_QUANTIZED_MODEL = \"mnist-tflite-model.tflite\"\n",
        "\n",
        "with open(NON_QUANTIZED_MODEL, \"wb\") as model_file:\n",
        "    model_file.write(tflite_model)"
      ],
      "metadata": {
        "colab": {
          "base_uri": "https://localhost:8080/"
        },
        "id": "PO9PTjsUy6Pg",
        "outputId": "23972e3a-2530-4a34-d635-693fcbd5e2c7"
      },
      "execution_count": 10,
      "outputs": [
        {
          "output_type": "stream",
          "name": "stderr",
          "text": [
            "WARNING:absl:Buffer deduplication procedure will be skipped when flatbuffer library is not properly loaded\n"
          ]
        }
      ]
    },
    {
      "cell_type": "markdown",
      "source": [
        "### Quantized Conversion"
      ],
      "metadata": {
        "id": "-cUSVaCT9U0o"
      }
    },
    {
      "cell_type": "code",
      "source": [
        "tflite_converter.optimizations = [tf.lite.Optimize.DEFAULT]\n",
        "\n",
        "tflite_quantized_model = tflite_converter.convert()\n",
        "\n",
        "QUANTIZED_MODEL = \"mnist-tflite-quantized-model.tflite\"\n",
        "\n",
        "with open(QUANTIZED_MODEL, \"wb\") as model_file:\n",
        "    model_file.write(tflite_quantized_model)"
      ],
      "metadata": {
        "colab": {
          "base_uri": "https://localhost:8080/"
        },
        "id": "UEaJiGdxzji1",
        "outputId": "7130b6d4-217d-48de-bf31-8b68e1fc69bf"
      },
      "execution_count": 11,
      "outputs": [
        {
          "output_type": "stream",
          "name": "stderr",
          "text": [
            "WARNING:absl:Buffer deduplication procedure will be skipped when flatbuffer library is not properly loaded\n"
          ]
        }
      ]
    },
    {
      "cell_type": "markdown",
      "source": [
        "### Size Comparison"
      ],
      "metadata": {
        "id": "0_E3-t1v9osB"
      }
    },
    {
      "cell_type": "code",
      "source": [
        "print(f'''TF Lite base model size : {os.path.getsize(NON_QUANTIZED_MODEL) / float(2**10)}\n",
        "Quantized model size: {os.path.getsize(QUANTIZED_MODEL) / float(2**10)}''')"
      ],
      "metadata": {
        "colab": {
          "base_uri": "https://localhost:8080/"
        },
        "id": "jp29roDW0M__",
        "outputId": "96c2242b-3ae8-4bab-ebf2-3239bce3170f"
      },
      "execution_count": 12,
      "outputs": [
        {
          "output_type": "stream",
          "name": "stdout",
          "text": [
            "TF Lite base model size : 411.953125\n",
            "Quantized model size: 106.15625\n"
          ]
        }
      ]
    },
    {
      "cell_type": "markdown",
      "source": [
        "### Accuracy Comparison"
      ],
      "metadata": {
        "id": "D59t-KaO9rJI"
      }
    },
    {
      "cell_type": "code",
      "source": [
        "interpreter = tf.lite.Interpreter(model_content=tflite_quantized_model)\n",
        "interpreter.allocate_tensors()\n",
        "quantized_tflite_model_accuracy = evaluate_model(interpreter, x_test, y_test)\n",
        "\n",
        "interpreter = tf.lite.Interpreter(model_content=tflite_model)\n",
        "interpreter.allocate_tensors()\n",
        "tflite_model_accuracy = evaluate_model(interpreter, x_test, y_test)\n",
        "\n",
        "print(f'''TF Lite base model accuracy: {tflite_model_accuracy} \n",
        "Quantized model accuracy: {quantized_tflite_model_accuracy}''')"
      ],
      "metadata": {
        "colab": {
          "base_uri": "https://localhost:8080/"
        },
        "id": "PKbQZWC28POu",
        "outputId": "acb53b89-5952-4960-e786-ec4dd3791392"
      },
      "execution_count": 13,
      "outputs": [
        {
          "output_type": "stream",
          "name": "stdout",
          "text": [
            "TF Lite base model accuracy: 0.9765 \n",
            "Quantized model accuracy: 0.9765\n"
          ]
        }
      ]
    },
    {
      "cell_type": "markdown",
      "source": [
        "## Quantization Aware Training"
      ],
      "metadata": {
        "id": "ZBEg6Iez7wMl"
      }
    },
    {
      "cell_type": "code",
      "source": [
        "!pip install tensorflow-model-optimization"
      ],
      "metadata": {
        "colab": {
          "base_uri": "https://localhost:8080/"
        },
        "id": "z3nM-VrS1OCG",
        "outputId": "f1a01f6a-3bcf-47e3-81c7-5daf4ca5656c"
      },
      "execution_count": 14,
      "outputs": [
        {
          "output_type": "stream",
          "name": "stdout",
          "text": [
            "Collecting tensorflow-model-optimization\n",
            "  Downloading tensorflow_model_optimization-0.7.0-py2.py3-none-any.whl (213 kB)\n",
            "\u001b[?25l\r\u001b[K     |█▌                              | 10 kB 22.3 MB/s eta 0:00:01\r\u001b[K     |███                             | 20 kB 28.0 MB/s eta 0:00:01\r\u001b[K     |████▋                           | 30 kB 14.3 MB/s eta 0:00:01\r\u001b[K     |██████▏                         | 40 kB 8.2 MB/s eta 0:00:01\r\u001b[K     |███████▊                        | 51 kB 5.4 MB/s eta 0:00:01\r\u001b[K     |█████████▎                      | 61 kB 5.9 MB/s eta 0:00:01\r\u001b[K     |██████████▊                     | 71 kB 5.6 MB/s eta 0:00:01\r\u001b[K     |████████████▎                   | 81 kB 6.2 MB/s eta 0:00:01\r\u001b[K     |█████████████▉                  | 92 kB 4.7 MB/s eta 0:00:01\r\u001b[K     |███████████████▍                | 102 kB 5.1 MB/s eta 0:00:01\r\u001b[K     |█████████████████               | 112 kB 5.1 MB/s eta 0:00:01\r\u001b[K     |██████████████████▌             | 122 kB 5.1 MB/s eta 0:00:01\r\u001b[K     |████████████████████            | 133 kB 5.1 MB/s eta 0:00:01\r\u001b[K     |█████████████████████▌          | 143 kB 5.1 MB/s eta 0:00:01\r\u001b[K     |███████████████████████         | 153 kB 5.1 MB/s eta 0:00:01\r\u001b[K     |████████████████████████▋       | 163 kB 5.1 MB/s eta 0:00:01\r\u001b[K     |██████████████████████████▏     | 174 kB 5.1 MB/s eta 0:00:01\r\u001b[K     |███████████████████████████▊    | 184 kB 5.1 MB/s eta 0:00:01\r\u001b[K     |█████████████████████████████▏  | 194 kB 5.1 MB/s eta 0:00:01\r\u001b[K     |██████████████████████████████▊ | 204 kB 5.1 MB/s eta 0:00:01\r\u001b[K     |████████████████████████████████| 213 kB 5.1 MB/s \n",
            "\u001b[?25hRequirement already satisfied: numpy~=1.14 in /usr/local/lib/python3.7/dist-packages (from tensorflow-model-optimization) (1.19.5)\n",
            "Requirement already satisfied: six~=1.10 in /usr/local/lib/python3.7/dist-packages (from tensorflow-model-optimization) (1.15.0)\n",
            "Requirement already satisfied: dm-tree~=0.1.1 in /usr/local/lib/python3.7/dist-packages (from tensorflow-model-optimization) (0.1.6)\n",
            "Installing collected packages: tensorflow-model-optimization\n",
            "Successfully installed tensorflow-model-optimization-0.7.0\n"
          ]
        }
      ]
    },
    {
      "cell_type": "markdown",
      "source": [
        ""
      ],
      "metadata": {
        "id": "4jKMi3nv9wuR"
      }
    },
    {
      "cell_type": "code",
      "source": [
        "import tensorflow_model_optimization as tfmot\n",
        "\n",
        "quantization_aware_model = tfmot.quantization.keras.quantize_model(\n",
        "    get_base_model()\n",
        ")\n",
        "\n",
        "quantization_aware_model.compile(optimizer='adam',\n",
        "              loss='sparse_categorical_crossentropy',\n",
        "              metrics=['accuracy'])\n",
        "\n",
        "quantization_aware_model.fit(x_train, y_train, epochs=5)"
      ],
      "metadata": {
        "colab": {
          "base_uri": "https://localhost:8080/"
        },
        "id": "vUN_ol1N0zVI",
        "outputId": "3460e20d-e397-4cb5-b5e2-360e4bc5132d"
      },
      "execution_count": 15,
      "outputs": [
        {
          "output_type": "stream",
          "name": "stdout",
          "text": [
            "Epoch 1/5\n",
            "1875/1875 [==============================] - 14s 7ms/step - loss: 0.2611 - accuracy: 0.9240\n",
            "Epoch 2/5\n",
            "1875/1875 [==============================] - 15s 8ms/step - loss: 0.1109 - accuracy: 0.9669\n",
            "Epoch 3/5\n",
            "1875/1875 [==============================] - 14s 8ms/step - loss: 0.0771 - accuracy: 0.9758\n",
            "Epoch 4/5\n",
            "1875/1875 [==============================] - 9s 5ms/step - loss: 0.0579 - accuracy: 0.9818\n",
            "Epoch 5/5\n",
            "1875/1875 [==============================] - 9s 5ms/step - loss: 0.0465 - accuracy: 0.9851\n"
          ]
        },
        {
          "output_type": "execute_result",
          "data": {
            "text/plain": [
              "<keras.callbacks.History at 0x7f211cae7c90>"
            ]
          },
          "metadata": {},
          "execution_count": 15
        }
      ]
    },
    {
      "cell_type": "markdown",
      "source": [
        "### Accuracy Comparison"
      ],
      "metadata": {
        "id": "VSb_Winj92GN"
      }
    },
    {
      "cell_type": "code",
      "source": [
        "base_model_loss, base_model_accuracy = base_model.evaluate(x_test, y_test)\n",
        "\n",
        "quantization_aware_model_loss, quantization_aware_model_accuracy = quantization_aware_model.evaluate(x_test, y_test)\n",
        "\n",
        "print(f'''Base model accuracy: {base_model_accuracy}\n",
        "Quantization aware model accuracy : {quantization_aware_model_accuracy}''')\n"
      ],
      "metadata": {
        "colab": {
          "base_uri": "https://localhost:8080/"
        },
        "id": "4iOkWy-X3SC5",
        "outputId": "256a232f-25bf-48ef-edc1-7bc291b8bddb"
      },
      "execution_count": 16,
      "outputs": [
        {
          "output_type": "stream",
          "name": "stdout",
          "text": [
            "313/313 [==============================] - 1s 2ms/step - loss: 0.0749 - accuracy: 0.9770\n",
            "313/313 [==============================] - 1s 3ms/step - loss: 0.0755 - accuracy: 0.9782\n",
            "Base model accuracy: 0.9769999980926514\n",
            "Quantization aware model accuracy : 0.9782000184059143\n"
          ]
        }
      ]
    },
    {
      "cell_type": "code",
      "source": [
        "converter = tf.lite.TFLiteConverter.from_keras_model(quantization_aware_model)\n",
        "converter.optimizations = [tf.lite.Optimize.DEFAULT]\n",
        "\n",
        "quantized_aware_tflite_model = converter.convert()"
      ],
      "metadata": {
        "colab": {
          "base_uri": "https://localhost:8080/"
        },
        "id": "SKHA8ugR4mOk",
        "outputId": "fa21e42b-5fe1-4084-e732-9dca5b7879f2"
      },
      "execution_count": 17,
      "outputs": [
        {
          "output_type": "stream",
          "name": "stderr",
          "text": [
            "WARNING:absl:Found untraced functions such as flatten_1_layer_call_fn, flatten_1_layer_call_and_return_conditional_losses, dense_3_layer_call_fn, dense_3_layer_call_and_return_conditional_losses, dense_4_layer_call_fn while saving (showing 5 of 20). These functions will not be directly callable after loading.\n"
          ]
        },
        {
          "output_type": "stream",
          "name": "stdout",
          "text": [
            "INFO:tensorflow:Assets written to: /tmp/tmp_bvu6l0i/assets\n"
          ]
        },
        {
          "output_type": "stream",
          "name": "stderr",
          "text": [
            "INFO:tensorflow:Assets written to: /tmp/tmp_bvu6l0i/assets\n",
            "WARNING:absl:Buffer deduplication procedure will be skipped when flatbuffer library is not properly loaded\n"
          ]
        }
      ]
    },
    {
      "cell_type": "markdown",
      "source": [
        "### Converted Model Accuracy Comparison"
      ],
      "metadata": {
        "id": "Y_H2tevz9_xZ"
      }
    },
    {
      "cell_type": "code",
      "source": [
        "interpreter = tf.lite.Interpreter(model_content=quantized_aware_tflite_model)\n",
        "interpreter.allocate_tensors()\n",
        "\n",
        "quantized_aware_model_accuracy = evaluate_model(interpreter, x_test, y_test)\n",
        "\n",
        "print(f'''Quantized model accuracy: {quantized_aware_model_accuracy} \n",
        "Quantization aware model accuracy: {quantization_aware_model_accuracy}\n",
        "Base model accuracy: {base_model_accuracy}''')\n"
      ],
      "metadata": {
        "colab": {
          "base_uri": "https://localhost:8080/"
        },
        "id": "px2wXKMh4z8I",
        "outputId": "8b0d2730-ce1c-493b-b23b-e43b973677ee"
      },
      "execution_count": 18,
      "outputs": [
        {
          "output_type": "stream",
          "name": "stdout",
          "text": [
            "Quantized model accuracy: 0.9574 \n",
            "Quantization aware model accuracy: 0.9782000184059143\n",
            "Base model accuracy: 0.9769999980926514\n"
          ]
        }
      ]
    },
    {
      "cell_type": "markdown",
      "source": [
        "### Size Comparison"
      ],
      "metadata": {
        "id": "ekxkkWdJ-Fpa"
      }
    },
    {
      "cell_type": "code",
      "source": [
        "QUANTIZED_AWARE_MODEL = \"mnist-tflite-quantized-aware-model.tflite\"\n",
        "\n",
        "with open(QUANTIZED_AWARE_MODEL, \"wb\") as model_file:\n",
        "    model_file.write(quantized_aware_tflite_model)\n",
        "\n",
        "print(f'''Non-quantized model size : {os.path.getsize(NON_QUANTIZED_MODEL) / float(2**10)}\n",
        "Quantized model size (With Quantiaztion-aware training): {os.path.getsize(QUANTIZED_AWARE_MODEL) / float(2**10)}''')"
      ],
      "metadata": {
        "colab": {
          "base_uri": "https://localhost:8080/"
        },
        "id": "4V-c5q5w-HQj",
        "outputId": "7a69757e-85e8-45e8-c830-c5897d73349b"
      },
      "execution_count": 19,
      "outputs": [
        {
          "output_type": "stream",
          "name": "stdout",
          "text": [
            "Non-quantized model size : 411.953125\n",
            "Quantized model size (With Quantiaztion-aware training): 106.09375\n"
          ]
        }
      ]
    },
    {
      "cell_type": "markdown",
      "source": [
        "## Clustering"
      ],
      "metadata": {
        "id": "rbtwwWzBEcAc"
      }
    },
    {
      "cell_type": "code",
      "source": [
        "import tensorflow_model_optimization as tfmot\n",
        "\n",
        "cluster_weights = tfmot.clustering.keras.cluster_weights\n",
        "CentroidInitialization = tfmot.clustering.keras.CentroidInitialization\n",
        "\n",
        "clustering_params = {\n",
        "  'number_of_clusters': 16,\n",
        "  'cluster_centroids_init': CentroidInitialization.LINEAR\n",
        "}\n",
        "\n",
        "# Cluster a whole model\n",
        "clustered_model = cluster_weights(base_model, **clustering_params)\n",
        "\n",
        "# `prune_low_magnitude` requires a recompile.\n",
        "clustered_model.compile(optimizer='adam',\n",
        "              loss='sparse_categorical_crossentropy',\n",
        "              metrics=['accuracy'])\n",
        "\n",
        "clustered_model.summary()\n",
        "\n",
        "clustered_model.fit(x_train, y_train, epochs=1)"
      ],
      "metadata": {
        "colab": {
          "base_uri": "https://localhost:8080/"
        },
        "id": "a9XfoT-yEdz1",
        "outputId": "020eb44e-8ba2-45bc-eda1-46b985a4aba3"
      },
      "execution_count": 20,
      "outputs": [
        {
          "output_type": "stream",
          "name": "stdout",
          "text": [
            "Model: \"sequential\"\n",
            "_________________________________________________________________\n",
            " Layer (type)                Output Shape              Param #   \n",
            "=================================================================\n",
            " cluster_flatten (ClusterWei  (None, 784)              0         \n",
            " ghts)                                                           \n",
            "                                                                 \n",
            " cluster_dense (ClusterWeigh  (None, 128)              200848    \n",
            " ts)                                                             \n",
            "                                                                 \n",
            " cluster_dense_1 (ClusterWei  (None, 32)               8240      \n",
            " ghts)                                                           \n",
            "                                                                 \n",
            " cluster_dense_2 (ClusterWei  (None, 10)               666       \n",
            " ghts)                                                           \n",
            "                                                                 \n",
            "=================================================================\n",
            "Total params: 209,754\n",
            "Trainable params: 104,986\n",
            "Non-trainable params: 104,768\n",
            "_________________________________________________________________\n",
            "1875/1875 [==============================] - 47s 24ms/step - loss: 0.0427 - accuracy: 0.9865\n"
          ]
        },
        {
          "output_type": "execute_result",
          "data": {
            "text/plain": [
              "<keras.callbacks.History at 0x7f219ed9d090>"
            ]
          },
          "metadata": {},
          "execution_count": 20
        }
      ]
    },
    {
      "cell_type": "markdown",
      "source": [
        "## Accuracy Comparison"
      ],
      "metadata": {
        "id": "DP61lwvGL-Gn"
      }
    },
    {
      "cell_type": "code",
      "source": [
        "clustered_model_loss, clustered_model_accuracy = clustered_model.evaluate(x_test, y_test)\n",
        "\n",
        "print(f'''Base model accuracy : {base_model_accuracy}\n",
        "Clustered model accuracy: {clustered_model_accuracy}''')"
      ],
      "metadata": {
        "colab": {
          "base_uri": "https://localhost:8080/"
        },
        "id": "8ALXfGO2IsMj",
        "outputId": "185cf35d-64b8-4d24-c281-995db3a3d06f"
      },
      "execution_count": 21,
      "outputs": [
        {
          "output_type": "stream",
          "name": "stdout",
          "text": [
            "313/313 [==============================] - 5s 15ms/step - loss: 0.0892 - accuracy: 0.9757\n",
            "Base model accuracy : 0.9769999980926514\n",
            "Clustered model accuracy: 0.9757000207901001\n"
          ]
        }
      ]
    },
    {
      "cell_type": "code",
      "source": [
        "CLUSTERED_MODEL = \"mnist-tflite-clustered-model.tflite\"\n",
        "\n",
        "converter = tf.lite.TFLiteConverter.from_keras_model(tfmot.clustering.keras.strip_clustering(clustered_model))\n",
        "\n",
        "clustered_tflite_model = converter.convert()\n",
        "\n",
        "with open(CLUSTERED_MODEL, \"wb\") as model_file:\n",
        "    model_file.write(clustered_tflite_model)\n",
        "\n"
      ],
      "metadata": {
        "colab": {
          "base_uri": "https://localhost:8080/"
        },
        "id": "sTHJy132JPd-",
        "outputId": "c7c23cb9-73c3-4bde-9b8d-636086cb3e52"
      },
      "execution_count": 22,
      "outputs": [
        {
          "output_type": "stream",
          "name": "stdout",
          "text": [
            "INFO:tensorflow:Assets written to: /tmp/tmpm4z8016h/assets\n"
          ]
        },
        {
          "output_type": "stream",
          "name": "stderr",
          "text": [
            "INFO:tensorflow:Assets written to: /tmp/tmpm4z8016h/assets\n",
            "WARNING:absl:Buffer deduplication procedure will be skipped when flatbuffer library is not properly loaded\n"
          ]
        }
      ]
    },
    {
      "cell_type": "markdown",
      "source": [
        "### Zipped Size Comparison"
      ],
      "metadata": {
        "id": "e3yU7Uk0L3M0"
      }
    },
    {
      "cell_type": "code",
      "source": [
        "!zip  mnist-tflite-model.zip mnist-tflite-model.tflite\n",
        "!zip  mnist-tflite-clustered-model.zip mnist-tflite-clustered-model.tflite\n",
        "!ls -hs | grep zip"
      ],
      "metadata": {
        "colab": {
          "base_uri": "https://localhost:8080/"
        },
        "id": "4-QiXNbGKmkU",
        "outputId": "00783440-312e-4237-fe5c-dc31d744ae6e"
      },
      "execution_count": 23,
      "outputs": [
        {
          "output_type": "stream",
          "name": "stdout",
          "text": [
            "  adding: mnist-tflite-model.tflite (deflated 7%)\n",
            "  adding: mnist-tflite-clustered-model.tflite (deflated 87%)\n",
            " 56K mnist-tflite-clustered-model.zip\n",
            "384K mnist-tflite-model.zip\n"
          ]
        }
      ]
    }
  ]
}