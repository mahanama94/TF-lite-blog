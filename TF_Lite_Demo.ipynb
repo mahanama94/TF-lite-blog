{
  "nbformat": 4,
  "nbformat_minor": 0,
  "metadata": {
    "colab": {
      "name": "TF-Lite-Demo.ipynb",
      "provenance": [],
      "toc_visible": true,
      "authorship_tag": "ABX9TyPB3bwdkK6S0/6wukATJwjs",
      "include_colab_link": true
    },
    "kernelspec": {
      "name": "python3",
      "display_name": "Python 3"
    },
    "language_info": {
      "name": "python"
    }
  },
  "cells": [
    {
      "cell_type": "markdown",
      "metadata": {
        "id": "view-in-github",
        "colab_type": "text"
      },
      "source": [
        "<a href=\"https://colab.research.google.com/github/mahanama94/TF-lite-blog/blob/main/TF_Lite_Demo.ipynb\" target=\"_parent\"><img src=\"https://colab.research.google.com/assets/colab-badge.svg\" alt=\"Open In Colab\"/></a>"
      ]
    },
    {
      "cell_type": "code",
      "execution_count": null,
      "metadata": {
        "id": "M0Pw9YBZvQrx"
      },
      "outputs": [],
      "source": [
        "import os\n",
        "import tensorflow as tf\n",
        "\n",
        "import matplotlib.pyplot as plt"
      ]
    },
    {
      "cell_type": "code",
      "source": [
        "import numpy as np\n",
        "\n",
        "def evaluate_model(interpreter, x_test, y_test):\n",
        "  input_index = interpreter.get_input_details()[0][\"index\"]\n",
        "  output_index = interpreter.get_output_details()[0][\"index\"]\n",
        "\n",
        "  # Run predictions on every image in the \"test\" dataset.\n",
        "  prediction_digits = []\n",
        "  for i, test_image in enumerate(x_test):\n",
        "    # if i % 1000 == 0:\n",
        "    #   print('Evaluated on {n} results so far.'.format(n=i))\n",
        "    # Pre-processing: add batch dimension and convert to float32 to match with\n",
        "    # the model's input data format.\n",
        "    test_image = np.expand_dims(test_image, axis=0).astype(np.float32)\n",
        "    interpreter.set_tensor(input_index, test_image)\n",
        "\n",
        "    # Run inference.\n",
        "    interpreter.invoke()\n",
        "\n",
        "    # Post-processing: remove batch dimension and find the digit with highest\n",
        "    # probability.\n",
        "    output = interpreter.tensor(output_index)\n",
        "    digit = np.argmax(output()[0])\n",
        "    prediction_digits.append(digit)\n",
        "\n",
        "  # Compare prediction results with ground truth labels to calculate accuracy.\n",
        "  prediction_digits = np.array(prediction_digits)\n",
        "  accuracy = (prediction_digits == y_test).mean()\n",
        "  return accuracy"
      ],
      "metadata": {
        "id": "PgzCowbF4Pfe"
      },
      "execution_count": null,
      "outputs": []
    },
    {
      "cell_type": "code",
      "source": [
        "(x_train, y_train) , (x_test, y_test) = tf.keras.datasets.mnist.load_data()"
      ],
      "metadata": {
        "id": "JmhkZvRhvboG"
      },
      "execution_count": null,
      "outputs": []
    },
    {
      "cell_type": "code",
      "source": [
        "plt.imshow(x_train[10])\n",
        "\n",
        "plt.show()"
      ],
      "metadata": {
        "colab": {
          "base_uri": "https://localhost:8080/",
          "height": 265
        },
        "id": "TEJSbNlov1W3",
        "outputId": "40b0271b-69fe-4e5e-b865-8b2daa541433"
      },
      "execution_count": null,
      "outputs": [
        {
          "output_type": "display_data",
          "data": {
            "image/png": "[encoded data removed]",
            "text/plain": [
              "<Figure size 432x288 with 1 Axes>"
            ]
          },
          "metadata": {
            "needs_background": "light"
          }
        }
      ]
    },
    {
      "cell_type": "code",
      "source": [
        "x_train = x_train/255\n",
        "\n",
        "x_test = x_test / 255"
      ],
      "metadata": {
        "id": "FUE80ejgv714"
      },
      "execution_count": null,
      "outputs": []
    },
    {
      "cell_type": "markdown",
      "source": [
        "## Base Model"
      ],
      "metadata": {
        "id": "iv4l6FpVNYL9"
      }
    },
    {
      "cell_type": "code",
      "source": [
        "from tensorflow.keras import Sequential\n",
        "from tensorflow.keras.layers import InputLayer, Dense, Flatten\n",
        "\n",
        "def get_base_model():\n",
        "    return Sequential([\n",
        "                        InputLayer(input_shape=(28, 28)),\n",
        "                        Flatten(),\n",
        "                        Dense(128, activation='relu'),\n",
        "                        Dense(32, activation='relu'),\n",
        "                        Dense(10, activation='sigmoid')\n",
        "    ])\n",
        "\n",
        "\n",
        "base_model = get_base_model()\n",
        "\n",
        "base_model.compile(optimizer='adam',\n",
        "              loss='sparse_categorical_crossentropy',\n",
        "              metrics=['accuracy'])\n",
        "\n",
        "base_model.fit(x_train, y_train, epochs=5)"
      ],
      "metadata": {
        "colab": {
          "base_uri": "https://localhost:8080/"
        },
        "id": "mpYK0u3UwQlj",
        "outputId": "78fe3fac-c63a-49f8-f633-74831aba3133"
      },
      "execution_count": null,
      "outputs": [
        {
          "output_type": "stream",
          "name": "stdout",
          "text": [
            "Epoch 1/5\n",
            "1875/1875 [==============================] - 5s 2ms/step - loss: 0.2696 - accuracy: 0.9205\n",
            "Epoch 2/5\n",
            "1875/1875 [==============================] - 5s 2ms/step - loss: 0.1142 - accuracy: 0.9665\n",
            "Epoch 3/5\n",
            "1875/1875 [==============================] - 5s 3ms/step - loss: 0.0780 - accuracy: 0.9758\n",
            "Epoch 4/5\n",
            "1875/1875 [==============================] - 5s 3ms/step - loss: 0.0601 - accuracy: 0.9813\n",
            "Epoch 5/5\n",
            "1875/1875 [==============================] - 5s 3ms/step - loss: 0.0460 - accuracy: 0.9854\n"
          ]
        },
        {
          "output_type": "execute_result",
          "data": {
            "text/plain": [
              "<keras.callbacks.History at 0x7fce41713550>"
            ]
          },
          "metadata": {},
          "execution_count": 115
        }
      ]
    },
    {
      "cell_type": "code",
      "source": [
        "base_model.evaluate(x_test, y_test)"
      ],
      "metadata": {
        "colab": {
          "base_uri": "https://localhost:8080/"
        },
        "id": "GhgDRFPbxm3K",
        "outputId": "450f939c-bd01-4a6b-a8dd-32e07f733192"
      },
      "execution_count": null,
      "outputs": [
        {
          "output_type": "stream",
          "name": "stdout",
          "text": [
            "313/313 [==============================] - 1s 2ms/step - loss: 0.0901 - accuracy: 0.9717\n"
          ]
        },
        {
          "output_type": "execute_result",
          "data": {
            "text/plain": [
              "[0.09013017266988754, 0.9717000126838684]"
            ]
          },
          "metadata": {},
          "execution_count": 116
        }
      ]
    },
    {
      "cell_type": "code",
      "source": [
        "base_model.save(\"base-mnist-model\")"
      ],
      "metadata": {
        "colab": {
          "base_uri": "https://localhost:8080/"
        },
        "id": "TwitPA71xxje",
        "outputId": "64dfbe94-2df9-4175-b90d-76b5554acce4"
      },
      "execution_count": null,
      "outputs": [
        {
          "output_type": "stream",
          "name": "stdout",
          "text": [
            "INFO:tensorflow:Assets written to: base-mnist-model/assets\n"
          ]
        },
        {
          "output_type": "stream",
          "name": "stderr",
          "text": [
            "INFO:tensorflow:Assets written to: base-mnist-model/assets\n"
          ]
        }
      ]
    },
    {
      "cell_type": "markdown",
      "source": [
        "## Post-training Quantization"
      ],
      "metadata": {
        "id": "Mm-OMY33ySfI"
      }
    },
    {
      "cell_type": "code",
      "source": [
        "tflite_converter = tf.lite.TFLiteConverter.from_saved_model(\"base-mnist-model\")"
      ],
      "metadata": {
        "id": "2rqJTIpbyJdA"
      },
      "execution_count": null,
      "outputs": []
    },
    {
      "cell_type": "markdown",
      "source": [
        "### Non-Quantized Conversion"
      ],
      "metadata": {
        "id": "2AMGzpxF9RMR"
      }
    },
    {
      "cell_type": "code",
      "source": [
        "tflite_model = tflite_converter.convert()\n",
        "\n",
        "NON_QUANTIZED_MODEL = \"mnist-tflite-model.tflite\"\n",
        "\n",
        "with open(NON_QUANTIZED_MODEL, \"wb\") as model_file:\n",
        "    model_file.write(tflite_model)"
      ],
      "metadata": {
        "colab": {
          "base_uri": "https://localhost:8080/"
        },
        "id": "PO9PTjsUy6Pg",
        "outputId": "e7c48230-e129-4374-b751-199a70e2af64"
      },
      "execution_count": null,
      "outputs": [
        {
          "output_type": "stream",
          "name": "stderr",
          "text": [
            "WARNING:absl:Buffer deduplication procedure will be skipped when flatbuffer library is not properly loaded\n"
          ]
        }
      ]
    },
    {
      "cell_type": "markdown",
      "source": [
        "### Quantized Conversion"
      ],
      "metadata": {
        "id": "-cUSVaCT9U0o"
      }
    },
    {
      "cell_type": "code",
      "source": [
        "tflite_converter.optimizations = [tf.lite.Optimize.DEFAULT]\n",
        "\n",
        "tflite_quantized_model = tflite_converter.convert()\n",
        "\n",
        "QUANTIZED_MODEL = \"mnist-tflite-quantized-model.tflite\"\n",
        "\n",
        "with open(QUANTIZED_MODEL, \"wb\") as model_file:\n",
        "    model_file.write(tflite_quantized_model)"
      ],
      "metadata": {
        "colab": {
          "base_uri": "https://localhost:8080/"
        },
        "id": "UEaJiGdxzji1",
        "outputId": "4175842e-786c-4ab4-b8af-d421a7c0cfc2"
      },
      "execution_count": null,
      "outputs": [
        {
          "output_type": "stream",
          "name": "stderr",
          "text": [
            "WARNING:absl:Buffer deduplication procedure will be skipped when flatbuffer library is not properly loaded\n"
          ]
        }
      ]
    },
    {
      "cell_type": "markdown",
      "source": [
        "### Size Comparison"
      ],
      "metadata": {
        "id": "0_E3-t1v9osB"
      }
    },
    {
      "cell_type": "code",
      "source": [
        "print(f'''TF Lite base model size : {os.path.getsize(NON_QUANTIZED_MODEL) / float(2**10)}\n",
        "Quantized model size: {os.path.getsize(QUANTIZED_MODEL) / float(2**10)}''')"
      ],
      "metadata": {
        "colab": {
          "base_uri": "https://localhost:8080/"
        },
        "id": "jp29roDW0M__",
        "outputId": "f7efb02b-cf4c-47dc-e10d-7401efafeca2"
      },
      "execution_count": null,
      "outputs": [
        {
          "output_type": "stream",
          "name": "stdout",
          "text": [
            "Non-quantized model size : 412.02734375\n",
            "Quantized model size: 106.234375\n"
          ]
        }
      ]
    },
    {
      "cell_type": "markdown",
      "source": [
        "### Accuracy Comparison"
      ],
      "metadata": {
        "id": "D59t-KaO9rJI"
      }
    },
    {
      "cell_type": "code",
      "source": [
        "interpreter = tf.lite.Interpreter(model_content=tflite_quantized_model)\n",
        "interpreter.allocate_tensors()\n",
        "quantized_tflite_model_accuracy = evaluate_model(interpreter, x_test, y_test)\n",
        "\n",
        "interpreter = tf.lite.Interpreter(model_content=tflite_model)\n",
        "interpreter.allocate_tensors()\n",
        "tflite_model_accuracy = evaluate_model(interpreter, x_test, y_test)\n",
        "\n",
        "print(f'''TF Lite base model accuracy: {tflite_model_accuracy} \n",
        "Quantized model accuracy: {quantized_tflite_model_accuracy}''')"
      ],
      "metadata": {
        "colab": {
          "base_uri": "https://localhost:8080/"
        },
        "id": "PKbQZWC28POu",
        "outputId": "93c909e4-b63d-41dc-dd1d-5ff9905493f8"
      },
      "execution_count": null,
      "outputs": [
        {
          "output_type": "stream",
          "name": "stdout",
          "text": [
            "Non-quantized model accuracy: 0.9717 \n",
            "Quantized model accuracy: 0.9715\n"
          ]
        }
      ]
    },
    {
      "cell_type": "markdown",
      "source": [
        "## Quantization Aware Training"
      ],
      "metadata": {
        "id": "ZBEg6Iez7wMl"
      }
    },
    {
      "cell_type": "code",
      "source": [
        "!pip install tensorflow-model-optimization"
      ],
      "metadata": {
        "colab": {
          "base_uri": "https://localhost:8080/"
        },
        "id": "z3nM-VrS1OCG",
        "outputId": "bfe67aa0-f668-4db2-8437-e3a00812e3b7"
      },
      "execution_count": null,
      "outputs": [
        {
          "output_type": "stream",
          "name": "stdout",
          "text": [
            "Requirement already satisfied: tensorflow-model-optimization in /usr/local/lib/python3.7/dist-packages (0.7.0)\n",
            "Requirement already satisfied: numpy~=1.14 in /usr/local/lib/python3.7/dist-packages (from tensorflow-model-optimization) (1.19.5)\n",
            "Requirement already satisfied: six~=1.10 in /usr/local/lib/python3.7/dist-packages (from tensorflow-model-optimization) (1.15.0)\n",
            "Requirement already satisfied: dm-tree~=0.1.1 in /usr/local/lib/python3.7/dist-packages (from tensorflow-model-optimization) (0.1.6)\n"
          ]
        }
      ]
    },
    {
      "cell_type": "markdown",
      "source": [
        ""
      ],
      "metadata": {
        "id": "4jKMi3nv9wuR"
      }
    },
    {
      "cell_type": "code",
      "source": [
        "import tensorflow_model_optimization as tfmot\n",
        "\n",
        "quantization_aware_model = tfmot.quantization.keras.quantize_model(\n",
        "    get_base_model()\n",
        ")\n",
        "\n",
        "quantization_aware_model.compile(optimizer='adam',\n",
        "              loss='sparse_categorical_crossentropy',\n",
        "              metrics=['accuracy'])\n",
        "\n",
        "quantization_aware_model.fit(x_train, y_train, epochs=5)"
      ],
      "metadata": {
        "colab": {
          "base_uri": "https://localhost:8080/"
        },
        "id": "vUN_ol1N0zVI",
        "outputId": "a636fbde-f04f-42f0-a6c2-6e45fc1ccc92"
      },
      "execution_count": null,
      "outputs": [
        {
          "output_type": "stream",
          "name": "stdout",
          "text": [
            "Epoch 1/5\n",
            "1875/1875 [==============================] - 14s 7ms/step - loss: 0.2524 - accuracy: 0.9262\n",
            "Epoch 2/5\n",
            "1875/1875 [==============================] - 16s 9ms/step - loss: 0.1078 - accuracy: 0.9672\n",
            "Epoch 3/5\n",
            "1875/1875 [==============================] - 15s 8ms/step - loss: 0.0762 - accuracy: 0.9765\n",
            "Epoch 4/5\n",
            "1875/1875 [==============================] - 9s 5ms/step - loss: 0.0567 - accuracy: 0.9821\n",
            "Epoch 5/5\n",
            "1875/1875 [==============================] - 9s 5ms/step - loss: 0.0448 - accuracy: 0.9854\n"
          ]
        },
        {
          "output_type": "execute_result",
          "data": {
            "text/plain": [
              "<keras.callbacks.History at 0x7fce49472490>"
            ]
          },
          "metadata": {},
          "execution_count": 124
        }
      ]
    },
    {
      "cell_type": "markdown",
      "source": [
        "### Accuracy Comparison"
      ],
      "metadata": {
        "id": "VSb_Winj92GN"
      }
    },
    {
      "cell_type": "code",
      "source": [
        "base_model_loss, base_model_accuracy = base_model.evaluate(x_test, y_test)\n",
        "\n",
        "quantization_aware_model_loss, quantization_aware_model_accuracy = quantization_aware_model.evaluate(x_test, y_test)\n",
        "\n",
        "print(f'''Base model accuracy: {base_model_accuracy}\n",
        "Quantization aware model accuracy : {quantization_aware_model_accuracy}''')\n"
      ],
      "metadata": {
        "colab": {
          "base_uri": "https://localhost:8080/"
        },
        "id": "4iOkWy-X3SC5",
        "outputId": "08b2e7fa-7fbc-410d-ce8c-0fbc291ed4f1"
      },
      "execution_count": null,
      "outputs": [
        {
          "output_type": "stream",
          "name": "stdout",
          "text": [
            "313/313 [==============================] - 1s 2ms/step - loss: 0.0901 - accuracy: 0.9717\n",
            "313/313 [==============================] - 1s 3ms/step - loss: 0.0923 - accuracy: 0.9730\n",
            "Base model accuracy: 0.9717000126838684\n",
            "Quantization aware model accuracy : 0.9729999899864197\n"
          ]
        }
      ]
    },
    {
      "cell_type": "code",
      "source": [
        "converter = tf.lite.TFLiteConverter.from_keras_model(quantization_aware_model)\n",
        "converter.optimizations = [tf.lite.Optimize.DEFAULT]\n",
        "\n",
        "quantized_aware_tflite_model = converter.convert()"
      ],
      "metadata": {
        "colab": {
          "base_uri": "https://localhost:8080/"
        },
        "id": "SKHA8ugR4mOk",
        "outputId": "50e067ea-36b3-4814-c7a5-305c620f27bf"
      },
      "execution_count": null,
      "outputs": [
        {
          "output_type": "stream",
          "name": "stderr",
          "text": [
            "WARNING:absl:Found untraced functions such as flatten_10_layer_call_fn, flatten_10_layer_call_and_return_conditional_losses, dense_30_layer_call_fn, dense_30_layer_call_and_return_conditional_losses, dense_31_layer_call_fn while saving (showing 5 of 20). These functions will not be directly callable after loading.\n"
          ]
        },
        {
          "output_type": "stream",
          "name": "stdout",
          "text": [
            "INFO:tensorflow:Assets written to: /tmp/tmp07gd67ve/assets\n"
          ]
        },
        {
          "output_type": "stream",
          "name": "stderr",
          "text": [
            "INFO:tensorflow:Assets written to: /tmp/tmp07gd67ve/assets\n",
            "WARNING:absl:Buffer deduplication procedure will be skipped when flatbuffer library is not properly loaded\n"
          ]
        }
      ]
    },
    {
      "cell_type": "markdown",
      "source": [
        "### Converted Model Accuracy Comparison"
      ],
      "metadata": {
        "id": "Y_H2tevz9_xZ"
      }
    },
    {
      "cell_type": "code",
      "source": [
        "interpreter = tf.lite.Interpreter(model_content=quantized_aware_tflite_model)\n",
        "interpreter.allocate_tensors()\n",
        "\n",
        "quantized_aware_model_accuracy = evaluate_model(interpreter, x_test, y_test)\n",
        "\n",
        "print(f'''Quantized model accuracy: {quantized_aware_model_accuracy} \n",
        "Quantization aware model accuracy: {quantization_aware_model_accuracy}\n",
        "Base model accuracy: {base_model_accuracy}''')\n"
      ],
      "metadata": {
        "colab": {
          "base_uri": "https://localhost:8080/"
        },
        "id": "px2wXKMh4z8I",
        "outputId": "7540b89b-907d-4708-b4e5-67f30b4f7f48"
      },
      "execution_count": null,
      "outputs": [
        {
          "output_type": "stream",
          "name": "stdout",
          "text": [
            "Quantized model accuracy: 0.9071 \n",
            "Quantization aware model accuracy: 0.9729999899864197\n",
            "Base model accuracy: 0.9717000126838684\n"
          ]
        }
      ]
    },
    {
      "cell_type": "markdown",
      "source": [
        "### Size Comparison"
      ],
      "metadata": {
        "id": "ekxkkWdJ-Fpa"
      }
    },
    {
      "cell_type": "code",
      "source": [
        "QUANTIZED_AWARE_MODEL = \"mnist-tflite-quantized-aware-model.tflite\"\n",
        "\n",
        "with open(QUANTIZED_AWARE_MODEL, \"wb\") as model_file:\n",
        "    model_file.write(quantized_aware_tflite_model)\n",
        "\n",
        "print(f'''Non-quantized model size : {os.path.getsize(NON_QUANTIZED_MODEL) / float(2**10)}\n",
        "Quantized model size (With Quantiaztion-aware training): {os.path.getsize(QUANTIZED_AWARE_MODEL) / float(2**10)}''')"
      ],
      "metadata": {
        "colab": {
          "base_uri": "https://localhost:8080/"
        },
        "id": "4V-c5q5w-HQj",
        "outputId": "66dadecd-0cb9-4b4d-e878-91678f2cbe44"
      },
      "execution_count": null,
      "outputs": [
        {
          "output_type": "stream",
          "name": "stdout",
          "text": [
            "Non-quantized model size : 412.02734375\n",
            "Quantized model size (With Quantiaztion-aware training): 106.1484375\n"
          ]
        }
      ]
    },
    {
      "cell_type": "markdown",
      "source": [
        "## Clustering"
      ],
      "metadata": {
        "id": "rbtwwWzBEcAc"
      }
    },
    {
      "cell_type": "code",
      "source": [
        "import tensorflow_model_optimization as tfmot\n",
        "\n",
        "cluster_weights = tfmot.clustering.keras.cluster_weights\n",
        "CentroidInitialization = tfmot.clustering.keras.CentroidInitialization\n",
        "\n",
        "clustering_params = {\n",
        "  'number_of_clusters': 16,\n",
        "  'cluster_centroids_init': CentroidInitialization.LINEAR\n",
        "}\n",
        "\n",
        "# Cluster a whole model\n",
        "clustered_model = cluster_weights(base_model, **clustering_params)\n",
        "\n",
        "# `prune_low_magnitude` requires a recompile.\n",
        "clustered_model.compile(optimizer='adam',\n",
        "              loss='sparse_categorical_crossentropy',\n",
        "              metrics=['accuracy'])\n",
        "\n",
        "clustered_model.summary()\n",
        "\n",
        "clustered_model.fit(x_train, y_train, epochs=1)"
      ],
      "metadata": {
        "colab": {
          "base_uri": "https://localhost:8080/"
        },
        "id": "a9XfoT-yEdz1",
        "outputId": "cc4e5c9c-0f17-426a-b788-cc8b8f7f787e"
      },
      "execution_count": null,
      "outputs": [
        {
          "output_type": "stream",
          "name": "stdout",
          "text": [
            "Model: \"sequential_10\"\n",
            "_________________________________________________________________\n",
            " Layer (type)                Output Shape              Param #   \n",
            "=================================================================\n",
            " cluster_flatten_9 (ClusterW  (None, 784)              0         \n",
            " eights)                                                         \n",
            "                                                                 \n",
            " cluster_dense_27 (ClusterWe  (None, 128)              200848    \n",
            " ights)                                                          \n",
            "                                                                 \n",
            " cluster_dense_28 (ClusterWe  (None, 32)               8240      \n",
            " ights)                                                          \n",
            "                                                                 \n",
            " cluster_dense_29 (ClusterWe  (None, 10)               666       \n",
            " ights)                                                          \n",
            "                                                                 \n",
            "=================================================================\n",
            "Total params: 209,754\n",
            "Trainable params: 104,986\n",
            "Non-trainable params: 104,768\n",
            "_________________________________________________________________\n"
          ]
        }
      ]
    },
    {
      "cell_type": "markdown",
      "source": [
        "## Accuracy Comparison"
      ],
      "metadata": {
        "id": "DP61lwvGL-Gn"
      }
    },
    {
      "cell_type": "code",
      "source": [
        "clustered_model_loss, clustered_model_accuracy = clustered_model.evaluate(x_test, y_test)\n",
        "\n",
        "print(f'''Base model accuracy : {base_model_accuracy}\n",
        "Clustered model accuracy: {clustered_model_accuracy}''')"
      ],
      "metadata": {
        "colab": {
          "base_uri": "https://localhost:8080/"
        },
        "id": "8ALXfGO2IsMj",
        "outputId": "0d0a9330-f899-4e3f-aa1d-4053e285d57c"
      },
      "execution_count": null,
      "outputs": [
        {
          "output_type": "stream",
          "name": "stdout",
          "text": [
            "313/313 [==============================] - 5s 15ms/step - loss: 0.0807 - accuracy: 0.9757\n",
            "Base model accuracy : 0.9717000126838684\n",
            "Clustered model accuracy: 0.9757000207901001\n"
          ]
        }
      ]
    },
    {
      "cell_type": "code",
      "source": [
        "CLUSTERED_MODEL = \"mnist-tflite-clustered-model.tflite\"\n",
        "\n",
        "converter = tf.lite.TFLiteConverter.from_keras_model(tfmot.clustering.keras.strip_clustering(clustered_model))\n",
        "\n",
        "clustered_tflite_model = converter.convert()\n",
        "\n",
        "with open(CLUSTERED_MODEL, \"wb\") as model_file:\n",
        "    model_file.write(clustered_tflite_model)\n",
        "\n"
      ],
      "metadata": {
        "colab": {
          "base_uri": "https://localhost:8080/"
        },
        "id": "sTHJy132JPd-",
        "outputId": "6577d75c-4f3c-4d75-9181-89ebdc34dcba"
      },
      "execution_count": null,
      "outputs": [
        {
          "output_type": "stream",
          "name": "stdout",
          "text": [
            "INFO:tensorflow:Assets written to: /tmp/tmph00cuycq/assets\n"
          ]
        },
        {
          "output_type": "stream",
          "name": "stderr",
          "text": [
            "INFO:tensorflow:Assets written to: /tmp/tmph00cuycq/assets\n",
            "WARNING:absl:Buffer deduplication procedure will be skipped when flatbuffer library is not properly loaded\n"
          ]
        }
      ]
    },
    {
      "cell_type": "markdown",
      "source": [
        "### Zipped Size Comparison"
      ],
      "metadata": {
        "id": "e3yU7Uk0L3M0"
      }
    },
    {
      "cell_type": "code",
      "source": [
        "!zip  mnist-tflite-model.zip mnist-tflite-model.tflite\n",
        "!zip  mnist-tflite-clustered-model.zip mnist-tflite-clustered-model.tflite\n",
        "!ls -hs | grep zip"
      ],
      "metadata": {
        "colab": {
          "base_uri": "https://localhost:8080/"
        },
        "id": "4-QiXNbGKmkU",
        "outputId": "21951bd3-a372-4de5-da1b-0386277a4ea1"
      },
      "execution_count": null,
      "outputs": [
        {
          "output_type": "stream",
          "name": "stdout",
          "text": [
            "updating: mnist-tflite-model.tflite (deflated 7%)\n",
            "updating: mnist-tflite-clustered-model.tflite (deflated 87%)\n",
            " 56K mnist-tflite-clustered-model.zip\n",
            "384K mnist-tflite-model.zip\n"
          ]
        }
      ]
    }
  ]
}